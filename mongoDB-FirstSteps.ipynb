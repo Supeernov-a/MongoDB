{
 "cells": [
  {
   "cell_type": "code",
   "execution_count": 26,
   "id": "8f9f435e",
   "metadata": {},
   "outputs": [],
   "source": [
    "import pymongo\n"
   ]
  },
  {
   "cell_type": "markdown",
   "id": "e54968a5",
   "metadata": {},
   "source": [
    "# Making a Connection with MongoClient\n",
    "The first step when working with PyMongo is to create a MongoClient tothe running mongod instance. Doing so is easy:"
   ]
  },
  {
   "cell_type": "code",
   "execution_count": 1,
   "id": "3c7ffa1c",
   "metadata": {},
   "outputs": [
    {
     "name": "stdout",
     "output_type": "stream",
     "text": [
      "['test', 'admin', 'local']\n"
     ]
    }
   ],
   "source": [
    "from pymongo import MongoClient\n",
    "\n",
    "\n",
    "cluster = \"mongodb+srv://<User>:<Password>@cluster0.ux7dogj.mongodb.net/test?retryWrites=true&w=majority\"\n",
    "client = MongoClient(cluster)\n",
    "\n",
    "print(client.list_database_names())"
   ]
  },
  {
   "cell_type": "markdown",
   "id": "32b73eb9",
   "metadata": {},
   "source": [
    "# Getting a Database\n",
    "A single instance of MongoDB can support multiple independent databases. When working with PyMongo you access databases using attribute style access on MongoClient instances:"
   ]
  },
  {
   "cell_type": "code",
   "execution_count": 2,
   "id": "07dd408b",
   "metadata": {},
   "outputs": [],
   "source": [
    "db = client.test"
   ]
  },
  {
   "cell_type": "code",
   "execution_count": 3,
   "id": "bd0fc6d2",
   "metadata": {},
   "outputs": [
    {
     "name": "stdout",
     "output_type": "stream",
     "text": [
      "['todos']\n"
     ]
    }
   ],
   "source": [
    "print(db.list_collection_names())"
   ]
  },
  {
   "cell_type": "markdown",
   "id": "731cab36",
   "metadata": {},
   "source": [
    "# Documents\n",
    "Data in MongoDB is represented (and stored) using JSON-style documents. In PyMongo we use dictionaries to represent documents. As an example, the following dictionary might be used to represent a blog post:"
   ]
  },
  {
   "cell_type": "code",
   "execution_count": 4,
   "id": "83bd00b6",
   "metadata": {},
   "outputs": [],
   "source": [
    "todos1 = [\n",
    "  { \"_id\": 1, \"name\": \"John\", \"address\": \"Highway 37\" ,\"Age\": 20, \"Gender\": \"M\"},\n",
    "  { \"_id\": 2, \"name\": \"Peter\", \"address\": \"Lowstreet 27\",\"Age\": 18,\"Gender\":\"M\"},\n",
    "  { \"_id\": 3, \"name\": \"Amy\", \"address\": \"Apple st 652\",\"Age\": 30,\"Gender\":\"F\"},\n",
    "  { \"_id\": 4, \"name\": \"Hannah\", \"address\": \"Mountain 21\",\"Age\": 25,\"Gender\":\"F\"},\n",
    "  { \"_id\": 5, \"name\": \"Michael\", \"address\": \"Valley 345\",\"Age\": 27,\"Gender\":\"M\"},\n",
    "  { \"_id\": 6, \"name\": \"Sandy\", \"address\": \"Ocean blvd 2\",\"Age\": 40,\"Gender\":\"M\"},\n",
    "  { \"_id\": 7, \"name\": \"Betty\", \"address\": \"Green Grass 1\",\"Age\": 32,\"Gender\":\"F\"},\n",
    "  { \"_id\": 8, \"name\": \"Richard\", \"address\": \"Sky st 331\",\"Age\": 34,\"Gender\":\"M\"},\n",
    "  { \"_id\": 9, \"name\": \"Susan\", \"address\": \"One way 98\",\"Age\": 37,\"Gender\":\"F\"},\n",
    "  { \"_id\": 10, \"name\": \"Vicky\", \"address\": \"Yellow Garden 2\",\"Age\": 18,\"Gender\":\"F\"},\n",
    "  { \"_id\": 11, \"name\": \"Ben\", \"address\": \"Park Lane 38\",\"Age\": 25,\"Gender\":\"M\"},\n",
    "  { \"_id\": 12, \"name\": \"William\", \"address\": \"Central st 954\", \"Age\": 29,\"Gender\":\"M\" },\n",
    "  { \"_id\": 13, \"name\": \"Chuck\", \"address\": \"Main Road 989\",\"Age\": 20,\"Gender\":\"M\"},\n",
    "  { \"_id\": 14, \"name\": \"Renzo\", \"address\": \"Barra Funda\",\"Age\": 32,\"Gender\":\"M\"},\n",
    "  { \"_id\": 15, \"name\": \"Gabriela\", \"address\": \"San Bernando\",\"Age\": 28,\"Gender\":\"F\"},\n",
    "  { \"_id\": 16, \"name\": \"Ricardo\", \"address\": \"Butanta\", \"Age\": 35,\"Gender\":\"M\" },\n",
    "  { \"_id\": 17, \"name\": \"Hector\", \"address\": \"Lima\",\"Age\": 55,\"Gender\":\"M\"},\n",
    "  { \"_id\": 18, \"name\": \"Bruna\", \"address\": \"Minas gerais\",\"Age\": 38,\"Gender\":\"F\"},\n",
    "  { \"_id\": 19, \"name\": \"Jacky\", \"address\": \"Lima \",\"Age\": 25,\"Gender\":\"F\"},\n",
    "  { \"_id\": 20, \"name\": \"Willy\", \"address\": \"Rua bosque\", \"Age\": 29 ,\"Gender\":\"M\"},\n",
    "  { \"_id\": 21, \"name\": \"Maycol\", \"address\": \"Minnesota 989\",\"Age\": 28,\"Gender\":\"M\"},\n",
    "  { \"_id\": 22, \"name\": \"Vanessa\", \"address\": \"New York 1633\",\"Age\": 37,\"Gender\":\"F\"},\n",
    "  { \"_id\": 23, \"name\": \"Taissa\", \"address\": \"Rio de Janeiro\",\"Age\": 27,\"Gender\":\"F\"},\n",
    "  { \"_id\": 24, \"name\": \"Eunice\", \"address\": \"Interior \", \"Age\": 60,\"Gender\":\"F\" },\n",
    "  { \"_id\": 25, \"name\": \"Enzo\", \"address\": \"Bogota 450\",\"Age\": 19,\"Gender\":\"M\"},\n",
    "  { \"_id\": 26, \"name\": \"Camila\", \"address\": \"Paraisopolis\",\"Age\": 29,\"Gender\":\"F\"},\n",
    "  { \"_id\": 27, \"name\": \"Claudia\", \"address\": \"Matarazzo 450 \",\"Age\": 50,\"Gender\":\"F\"},\n",
    "  { \"_id\": 28, \"name\": \"Nilsa\", \"address\": \"Rua cidade de deus\", \"Age\": 61,\"Gender\":\"F\"},\n",
    "  { \"_id\": 29, \"name\": \"Fabianna\", \"address\": \"Capistrano de abreu\",\"Age\": 34,\"Gender\":\"F\"},\n",
    "  { \"_id\": 30, \"name\": \"Nicoli\", \"address\": \"Maua\",\"Age\": 25,\"Gender\":\"F\"}  \n",
    "]"
   ]
  },
  {
   "cell_type": "code",
   "execution_count": 5,
   "id": "145cc16b",
   "metadata": {},
   "outputs": [],
   "source": [
    "todos = db.todos"
   ]
  },
  {
   "cell_type": "code",
   "execution_count": null,
   "id": "340e5bfb",
   "metadata": {},
   "outputs": [],
   "source": [
    "# Inserting documents\n",
    "# ================================================================\n",
    "result = todos.insert_many(todos1)"
   ]
  },
  {
   "cell_type": "code",
   "execution_count": 10,
   "id": "c0b1edec",
   "metadata": {},
   "outputs": [
    {
     "name": "stdout",
     "output_type": "stream",
     "text": [
      "{'_id': 3, 'name': 'Amy', 'address': 'Apple st 652', 'Age': 30, 'Gender': 'F'}\n",
      "{'_id': 4, 'name': 'Hannah', 'address': 'Mountain 21', 'Age': 25, 'Gender': 'F'}\n",
      "{'_id': 7, 'name': 'Betty', 'address': 'Green Grass 1', 'Age': 32, 'Gender': 'F'}\n",
      "{'_id': 9, 'name': 'Susan', 'address': 'One way 98', 'Age': 37, 'Gender': 'F'}\n",
      "{'_id': 10, 'name': 'Vicky', 'address': 'Yellow Garden 2', 'Age': 18, 'Gender': 'F'}\n",
      "{'_id': 15, 'name': 'Gabriela', 'address': 'San Bernando', 'Age': 28, 'Gender': 'F'}\n",
      "{'_id': 18, 'name': 'Bruna', 'address': 'Minas gerais', 'Age': 38, 'Gender': 'F'}\n",
      "{'_id': 19, 'name': 'Jacky', 'address': 'Lima ', 'Age': 25, 'Gender': 'F'}\n",
      "{'_id': 22, 'name': 'Vanessa', 'address': 'New York 1633', 'Age': 37, 'Gender': 'F'}\n",
      "{'_id': 23, 'name': 'Taissa', 'address': 'Rio de Janeiro', 'Age': 27, 'Gender': 'F'}\n",
      "{'_id': 24, 'name': 'Eunice', 'address': 'Interior ', 'Age': 60, 'Gender': 'F'}\n",
      "{'_id': 26, 'name': 'Camila', 'address': 'Paraisopolis', 'Age': 29, 'Gender': 'F'}\n",
      "{'_id': 27, 'name': 'Claudia', 'address': 'Matarazzo 450 ', 'Age': 50, 'Gender': 'F'}\n",
      "{'_id': 28, 'name': 'Nilsa', 'address': 'Rua cidade de deus', 'Age': 61, 'Gender': 'F'}\n",
      "{'_id': 29, 'name': 'Fabianna', 'address': 'Capistrano de abreu', 'Age': 34, 'Gender': 'F'}\n",
      "{'_id': 30, 'name': 'Nicoli', 'address': 'Maua', 'Age': 25, 'Gender': 'F'}\n"
     ]
    }
   ],
   "source": [
    "# Finding all persons with gender female\n",
    "# ================================================================\n",
    "for i in todos.find({ \"Gender\":\"F\"}):\n",
    "    print(i)\n"
   ]
  },
  {
   "cell_type": "code",
   "execution_count": 17,
   "id": "73455ae6",
   "metadata": {},
   "outputs": [
    {
     "name": "stdout",
     "output_type": "stream",
     "text": [
      "{'_id': 6, 'name': 'Sandy', 'address': 'Ocean blvd 2', 'Age': 40, 'Gender': 'M'}\n",
      "{'_id': 7, 'name': 'Betty', 'address': 'Green Grass 1', 'Age': 32, 'Gender': 'F'}\n",
      "{'_id': 8, 'name': 'Richard', 'address': 'Sky st 331', 'Age': 34, 'Gender': 'M'}\n",
      "{'_id': 9, 'name': 'Susan', 'address': 'One way 98', 'Age': 37, 'Gender': 'F'}\n",
      "{'_id': 14, 'name': 'Renzo', 'address': 'Barra Funda', 'Age': 32, 'Gender': 'M'}\n",
      "{'_id': 16, 'name': 'Ricardo', 'address': 'Butanta', 'Age': 35, 'Gender': 'M'}\n",
      "{'_id': 17, 'name': 'Hector', 'address': 'Lima', 'Age': 55, 'Gender': 'M'}\n",
      "{'_id': 18, 'name': 'Bruna', 'address': 'Minas gerais', 'Age': 38, 'Gender': 'F'}\n",
      "{'_id': 22, 'name': 'Vanessa', 'address': 'New York 1633', 'Age': 37, 'Gender': 'F'}\n",
      "{'_id': 24, 'name': 'Eunice', 'address': 'Interior ', 'Age': 60, 'Gender': 'F'}\n",
      "{'_id': 27, 'name': 'Claudia', 'address': 'Matarazzo 450 ', 'Age': 50, 'Gender': 'F'}\n",
      "{'_id': 28, 'name': 'Nilsa', 'address': 'Rua cidade de deus', 'Age': 61, 'Gender': 'F'}\n",
      "{'_id': 29, 'name': 'Fabianna', 'address': 'Capistrano de abreu', 'Age': 34, 'Gender': 'F'}\n"
     ]
    }
   ],
   "source": [
    "# Finding all persons greater than 30\n",
    "consult2 = todos.find(\n",
    "                     {\"Age\":{\"$gt\": 30}}\n",
    "                     )\n",
    "for i in consult2:\n",
    "    print(i)"
   ]
  },
  {
   "cell_type": "code",
   "execution_count": 18,
   "id": "9d33f7bf",
   "metadata": {},
   "outputs": [
    {
     "name": "stdout",
     "output_type": "stream",
     "text": [
      "{'_id': 7, 'name': 'Betty', 'address': 'Green Grass 1', 'Age': 32, 'Gender': 'F'}\n",
      "{'_id': 9, 'name': 'Susan', 'address': 'One way 98', 'Age': 37, 'Gender': 'F'}\n",
      "{'_id': 18, 'name': 'Bruna', 'address': 'Minas gerais', 'Age': 38, 'Gender': 'F'}\n",
      "{'_id': 22, 'name': 'Vanessa', 'address': 'New York 1633', 'Age': 37, 'Gender': 'F'}\n",
      "{'_id': 24, 'name': 'Eunice', 'address': 'Interior ', 'Age': 60, 'Gender': 'F'}\n",
      "{'_id': 27, 'name': 'Claudia', 'address': 'Matarazzo 450 ', 'Age': 50, 'Gender': 'F'}\n",
      "{'_id': 28, 'name': 'Nilsa', 'address': 'Rua cidade de deus', 'Age': 61, 'Gender': 'F'}\n",
      "{'_id': 29, 'name': 'Fabianna', 'address': 'Capistrano de abreu', 'Age': 34, 'Gender': 'F'}\n"
     ]
    }
   ],
   "source": [
    "# Finding all persons with gender Female and greater than 30\n",
    "# ==================================================================\n",
    "consult3 = todos.find(\n",
    "                     {\"$and\":[{\"Gender\":\"F\"}, {\"Age\":{\"$gt\":30}}]}\n",
    "                      )\n",
    "for i in consult3:\n",
    "    print(i)"
   ]
  },
  {
   "cell_type": "code",
   "execution_count": 21,
   "id": "be2f878e",
   "metadata": {},
   "outputs": [
    {
     "name": "stdout",
     "output_type": "stream",
     "text": [
      "{'_id': 1, 'name': 'John', 'address': 'Highway 37', 'Age': 20, 'Gender': 'M'}\n",
      "{'_id': 2, 'name': 'Peter', 'address': 'Lowstreet 27', 'Age': 18, 'Gender': 'M'}\n",
      "{'_id': 13, 'name': 'Chuck', 'address': 'Main Road 989', 'Age': 20, 'Gender': 'M'}\n",
      "{'_id': 25, 'name': 'Enzo', 'address': 'Bogota 450', 'Age': 19, 'Gender': 'M'}\n"
     ]
    }
   ],
   "source": [
    "# Finding all persons with gender Male and less than 22\n",
    "# =====================================================================\n",
    "consult4 = todos.find(\n",
    "                    {\"$and\" : [ {\"Age\": {\"$lt\": 22}}, {\"Gender\": \"M\"}] }\n",
    "                      )\n",
    "for i in consult4:\n",
    "    print(i)"
   ]
  },
  {
   "cell_type": "code",
   "execution_count": 22,
   "id": "dd34c77c",
   "metadata": {},
   "outputs": [],
   "source": [
    "# Adding new documents\n",
    "# ========================================================================\n",
    "new = [ { \"_id\": 31, \"name\": \"Carlos\", \"address\": \"Barra Funda\",\"Age\": 28,\"Gender\":\"M\"} ,\n",
    "        {\"_id\" : 32 ,\"name\": \"Johan\", \"address\": \"Lima\", \"Age\": 24, \"Gender\":\"M\"},\n",
    "        {\"_id\": 33, \"name\": \"Ricardo\", \"address\" : \"Lima\", \"Age\": 28, \"Gender\": \"M\"},\n",
    "        {\"_id\": 34, \"name\": \"Ricardo\", \"address\": \"Barra funda\", \"Age\": 45, \"Gender\":\"M\"},\n",
    "        {\"_id\": 35, \"name\": \"Lucia\", \"address\": \"Rua bosque\", \"Age\" : 23, \"Gender\": \"F\"}\n",
    "]"
   ]
  },
  {
   "cell_type": "code",
   "execution_count": 23,
   "id": "39693c19",
   "metadata": {},
   "outputs": [],
   "source": [
    "result2 = todos.insert_many(new)"
   ]
  },
  {
   "cell_type": "code",
   "execution_count": 32,
   "id": "f6887667",
   "metadata": {},
   "outputs": [
    {
     "name": "stdout",
     "output_type": "stream",
     "text": [
      "{'_id': 34, 'name': 'Ricardo', 'address': 'Barra funda', 'Age': 45, 'Gender': 'M'}\n",
      "{'_id': 16, 'name': 'Ricardo', 'address': 'Butanta', 'Age': 35, 'Gender': 'M'}\n",
      "{'_id': 33, 'name': 'Ricardo', 'address': 'Lima', 'Age': 28, 'Gender': 'M'}\n"
     ]
    }
   ],
   "source": [
    "# Finding all person with name \"Ricardo\" and sorting by their Age \n",
    "consult5 = todos.find(\n",
    "                     {\"name\": \"Ricardo\"}\n",
    "                     ).sort(\"Age\" , pymongo.DESCENDING)\n",
    "for i in consult5:\n",
    "    print(i)"
   ]
  },
  {
   "cell_type": "code",
   "execution_count": 36,
   "id": "8a1d4691",
   "metadata": {},
   "outputs": [
    {
     "name": "stdout",
     "output_type": "stream",
     "text": [
      "<pymongo.cursor.Cursor object at 0x0000020D42825220>\n"
     ]
    }
   ],
   "source": [
    "consult6 = todos.find(\n",
    "                      {\"$max\" :\"Age\"})\n",
    "print(consult6)"
   ]
  },
  {
   "cell_type": "code",
   "execution_count": null,
   "id": "d34c1b4c",
   "metadata": {},
   "outputs": [],
   "source": []
  }
 ],
 "metadata": {
  "kernelspec": {
   "display_name": "Python 3 (ipykernel)",
   "language": "python",
   "name": "python3"
  },
  "language_info": {
   "codemirror_mode": {
    "name": "ipython",
    "version": 3
   },
   "file_extension": ".py",
   "mimetype": "text/x-python",
   "name": "python",
   "nbconvert_exporter": "python",
   "pygments_lexer": "ipython3",
   "version": "3.9.13"
  }
 },
 "nbformat": 4,
 "nbformat_minor": 5
}
