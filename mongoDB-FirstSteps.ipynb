{
 "cells": [
  {
   "cell_type": "code",
   "execution_count": 26,
   "id": "8f9f435e",
   "metadata": {},
   "outputs": [],
   "source": [
    "import pymongo\n"
   ]
  },
  {
   "cell_type": "markdown",
   "id": "e54968a5",
   "metadata": {},
   "source": [
    "# Making a Connection with MongoClient\n",
    "The first step when working with PyMongo is to create a MongoClient tothe running mongod instance. Doing so is easy:"
   ]
  },
  {
   "cell_type": "code",
   "execution_count": 1,
   "id": "3c7ffa1c",
   "metadata": {},
   "outputs": [
    {
     "name": "stdout",
     "output_type": "stream",
     "text": [
      "['test', 'admin', 'local']\n"
     ]
    }
   ],
   "source": [
    "from pymongo import MongoClient\n",
    "\n",
    "\n",
    "cluster = \"mongodb+srv://<User>:<Password>@cluster0.ux7dogj.mongodb.net/test?retryWrites=true&w=majority\"\n",
    "client = MongoClient(cluster)\n",
    "\n",
    "print(client.list_database_names())"
   ]
  },
  {
   "cell_type": "markdown",
   "id": "32b73eb9",
   "metadata": {},
   "source": [
    "# Getting a Database\n",
    "A single instance of MongoDB can support multiple independent databases. When working with PyMongo you access databases using attribute style access on MongoClient instances:"
   ]
  },
  {
   "cell_type": "code",
   "execution_count": 2,
   "id": "07dd408b",
   "metadata": {},
   "outputs": [],
   "source": [
    "db = client.test"
   ]
  },
  {
   "cell_type": "code",
   "execution_count": 3,
   "id": "bd0fc6d2",
   "metadata": {},
   "outputs": [
    {
     "name": "stdout",
     "output_type": "stream",
     "text": [
      "['todos']\n"
     ]
    }
   ],
   "source": [
    "print(db.list_collection_names())"
   ]
  },
  {
   "cell_type": "markdown",
   "id": "731cab36",
   "metadata": {},
   "source": [
    "# Documents\n",
    "Data in MongoDB is represented (and stored) using JSON-style documents. In PyMongo we use dictionaries to represent documents. As an example, the following dictionary might be used to represent a blog post:"
   ]
  },
  {
   "cell_type": "code",
   "execution_count": 4,
   "id": "83bd00b6",
   "metadata": {},
   "outputs": [],
   "source": [
    "todos1 = [\n",
    "  { \"_id\": 1, \"name\": \"John\", \"address\": \"Highway 37\" ,\"Age\": 20, \"Gender\": \"M\"},\n",
    "  { \"_id\": 2, \"name\": \"Peter\", \"address\": \"Lowstreet 27\",\"Age\": 18,\"Gender\":\"M\"},\n",
    "  { \"_id\": 3, \"name\": \"Amy\", \"address\": \"Apple st 652\",\"Age\": 30,\"Gender\":\"F\"},\n",
    "  { \"_id\": 4, \"name\": \"Hannah\", \"address\": \"Mountain 21\",\"Age\": 25,\"Gender\":\"F\"},\n",
    "  { \"_id\": 5, \"name\": \"Michael\", \"address\": \"Valley 345\",\"Age\": 27,\"Gender\":\"M\"},\n",
    "  { \"_id\": 6, \"name\": \"Sandy\", \"address\": \"Ocean blvd 2\",\"Age\": 40,\"Gender\":\"M\"},\n",
    "  { \"_id\": 7, \"name\": \"Betty\", \"address\": \"Green Grass 1\",\"Age\": 32,\"Gender\":\"F\"},\n",
    "  { \"_id\": 8, \"name\": \"Richard\", \"address\": \"Sky st 331\",\"Age\": 34,\"Gender\":\"M\"},\n",
    "  { \"_id\": 9, \"name\": \"Susan\", \"address\": \"One way 98\",\"Age\": 37,\"Gender\":\"F\"},\n",
    "  { \"_id\": 10, \"name\": \"Vicky\", \"address\": \"Yellow Garden 2\",\"Age\": 18,\"Gender\":\"F\"},\n",
    "  { \"_id\": 11, \"name\": \"Ben\", \"address\": \"Park Lane 38\",\"Age\": 25,\"Gender\":\"M\"},\n",
    "  { \"_id\": 12, \"name\": \"William\", \"address\": \"Central st 954\", \"Age\": 29,\"Gender\":\"M\" },\n",
    "  { \"_id\": 13, \"name\": \"Chuck\", \"address\": \"Main Road 989\",\"Age\": 20,\"Gender\":\"M\"},\n",
    "  { \"_id\": 14, \"name\": \"Renzo\", \"address\": \"Barra Funda\",\"Age\": 32,\"Gender\":\"M\"},\n",
    "  { \"_id\": 15, \"name\": \"Gabriela\", \"address\": \"San Bernando\",\"Age\": 28,\"Gender\":\"F\"},\n",
    "  { \"_id\": 16, \"name\": \"Ricardo\", \"address\": \"Butanta\", \"Age\": 35,\"Gender\":\"M\" },\n",
    "  { \"_id\": 17, \"name\": \"Hector\", \"address\": \"Lima\",\"Age\": 55,\"Gender\":\"M\"},\n",
    "  { \"_id\": 18, \"name\": \"Bruna\", \"address\": \"Minas gerais\",\"Age\": 38,\"Gender\":\"F\"},\n",
    "  { \"_id\": 19, \"name\": \"Jacky\", \"address\": \"Lima \",\"Age\": 25,\"Gender\":\"F\"},\n",
    "  { \"_id\": 20, \"name\": \"Willy\", \"address\": \"Rua bosque\", \"Age\": 29 ,\"Gender\":\"M\"},\n",
    "  { \"_id\": 21, \"name\": \"Maycol\", \"address\": \"Minnesota 989\",\"Age\": 28,\"Gender\":\"M\"},\n",
    "  { \"_id\": 22, \"name\": \"Vanessa\", \"address\": \"New York 1633\",\"Age\": 37,\"Gender\":\"F\"},\n",
    "  { \"_id\": 23, \"name\": \"Taissa\", \"address\": \"Rio de Janeiro\",\"Age\": 27,\"Gender\":\"F\"},\n",
    "  { \"_id\": 24, \"name\": \"Eunice\", \"address\": \"Interior \", \"Age\": 60,\"Gender\":\"F\" },\n",
    "  { \"_id\": 25, \"name\": \"Enzo\", \"address\": \"Bogota 450\",\"Age\": 19,\"Gender\":\"M\"},\n",
    "  { \"_id\": 26, \"name\": \"Camila\", \"address\": \"Paraisopolis\",\"Age\": 29,\"Gender\":\"F\"},\n",
    "  { \"_id\": 27, \"name\": \"Claudia\", \"address\": \"Matarazzo 450 \",\"Age\": 50,\"Gender\":\"F\"},\n",
    "  { \"_id\": 28, \"name\": \"Nilsa\", \"address\": \"Rua cidade de deus\", \"Age\": 61,\"Gender\":\"F\"},\n",
    "  { \"_id\": 29, \"name\": \"Fabianna\", \"address\": \"Capistrano de abreu\",\"Age\": 34,\"Gender\":\"F\"},\n",
    "  { \"_id\": 30, \"name\": \"Nicoli\", \"address\": \"Maua\",\"Age\": 25,\"Gender\":\"F\"}  \n",
    "]"
   ]
  },
  {
   "cell_type": "code",
   "execution_count": 5,
   "id": "145cc16b",
   "metadata": {},
   "outputs": [],
   "source": [
    "todos = db.todos"
   ]
  },
  {
   "cell_type": "code",
   "execution_count": null,
   "id": "340e5bfb",
   "metadata": {},
   "outputs": [],
   "source": [
    "# Inserting documents\n",
    "# ================================================================\n",
    "result = todos.insert_many(todos1)"
   ]
  },
  {
   "cell_type": "code",
   "execution_count": 10,
   "id": "c0b1edec",
   "metadata": {},
   "outputs": [
    {
     "name": "stdout",
     "output_type": "stream",
     "text": [
      "{'_id': 3, 'name': 'Amy', 'address': 'Apple st 652', 'Age': 30, 'Gender': 'F'}\n",
      "{'_id': 4, 'name': 'Hannah', 'address': 'Mountain 21', 'Age': 25, 'Gender': 'F'}\n",
      "{'_id': 7, 'name': 'Betty', 'address': 'Green Grass 1', 'Age': 32, 'Gender': 'F'}\n",
      "{'_id': 9, 'name': 'Susan', 'address': 'One way 98', 'Age': 37, 'Gender': 'F'}\n",
      "{'_id': 10, 'name': 'Vicky', 'address': 'Yellow Garden 2', 'Age': 18, 'Gender': 'F'}\n",
      "{'_id': 15, 'name': 'Gabriela', 'address': 'San Bernando', 'Age': 28, 'Gender': 'F'}\n",
      "{'_id': 18, 'name': 'Bruna', 'address': 'Minas gerais', 'Age': 38, 'Gender': 'F'}\n",
      "{'_id': 19, 'name': 'Jacky', 'address': 'Lima ', 'Age': 25, 'Gender': 'F'}\n",
      "{'_id': 22, 'name': 'Vanessa', 'address': 'New York 1633', 'Age': 37, 'Gender': 'F'}\n",
      "{'_id': 23, 'name': 'Taissa', 'address': 'Rio de Janeiro', 'Age': 27, 'Gender': 'F'}\n",
      "{'_id': 24, 'name': 'Eunice', 'address': 'Interior ', 'Age': 60, 'Gender': 'F'}\n",
      "{'_id': 26, 'name': 'Camila', 'address': 'Paraisopolis', 'Age': 29, 'Gender': 'F'}\n",
      "{'_id': 27, 'name': 'Claudia', 'address': 'Matarazzo 450 ', 'Age': 50, 'Gender': 'F'}\n",
      "{'_id': 28, 'name': 'Nilsa', 'address': 'Rua cidade de deus', 'Age': 61, 'Gender': 'F'}\n",
      "{'_id': 29, 'name': 'Fabianna', 'address': 'Capistrano de abreu', 'Age': 34, 'Gender': 'F'}\n",
      "{'_id': 30, 'name': 'Nicoli', 'address': 'Maua', 'Age': 25, 'Gender': 'F'}\n"
     ]
    }
   ],
   "source": [
    "# Finding all persons with gender female\n",
    "# ================================================================\n",
    "for i in todos.find({ \"Gender\":\"F\"}):\n",
    "    print(i)\n"
   ]
  },
  {
   "cell_type": "code",
   "execution_count": 17,
   "id": "73455ae6",
   "metadata": {},
   "outputs": [
    {
     "name": "stdout",
     "output_type": "stream",
     "text": [
      "{'_id': 6, 'name': 'Sandy', 'address': 'Ocean blvd 2', 'Age': 40, 'Gender': 'M'}\n",
      "{'_id': 7, 'name': 'Betty', 'address': 'Green Grass 1', 'Age': 32, 'Gender': 'F'}\n",
      "{'_id': 8, 'name': 'Richard', 'address': 'Sky st 331', 'Age': 34, 'Gender': 'M'}\n",
      "{'_id': 9, 'name': 'Susan', 'address': 'One way 98', 'Age': 37, 'Gender': 'F'}\n",
      "{'_id': 14, 'name': 'Renzo', 'address': 'Barra Funda', 'Age': 32, 'Gender': 'M'}\n",
      "{'_id': 16, 'name': 'Ricardo', 'address': 'Butanta', 'Age': 35, 'Gender': 'M'}\n",
      "{'_id': 17, 'name': 'Hector', 'address': 'Lima', 'Age': 55, 'Gender': 'M'}\n",
      "{'_id': 18, 'name': 'Bruna', 'address': 'Minas gerais', 'Age': 38, 'Gender': 'F'}\n",
      "{'_id': 22, 'name': 'Vanessa', 'address': 'New York 1633', 'Age': 37, 'Gender': 'F'}\n",
      "{'_id': 24, 'name': 'Eunice', 'address': 'Interior ', 'Age': 60, 'Gender': 'F'}\n",
      "{'_id': 27, 'name': 'Claudia', 'address': 'Matarazzo 450 ', 'Age': 50, 'Gender': 'F'}\n",
      "{'_id': 28, 'name': 'Nilsa', 'address': 'Rua cidade de deus', 'Age': 61, 'Gender': 'F'}\n",
      "{'_id': 29, 'name': 'Fabianna', 'address': 'Capistrano de abreu', 'Age': 34, 'Gender': 'F'}\n"
     ]
    }
   ],
   "source": [
    "# Finding all persons greater than 30\n",
    "consult2 = todos.find(\n",
    "                     {\"Age\":{\"$gt\": 30}}\n",
    "                     )\n",
    "for i in consult2:\n",
    "    print(i)"
   ]
  },
  {
   "cell_type": "code",
   "execution_count": 18,
   "id": "9d33f7bf",
   "metadata": {},
   "outputs": [
    {
     "name": "stdout",
     "output_type": "stream",
     "text": [
      "{'_id': 7, 'name': 'Betty', 'address': 'Green Grass 1', 'Age': 32, 'Gender': 'F'}\n",
      "{'_id': 9, 'name': 'Susan', 'address': 'One way 98', 'Age': 37, 'Gender': 'F'}\n",
      "{'_id': 18, 'name': 'Bruna', 'address': 'Minas gerais', 'Age': 38, 'Gender': 'F'}\n",
      "{'_id': 22, 'name': 'Vanessa', 'address': 'New York 1633', 'Age': 37, 'Gender': 'F'}\n",
      "{'_id': 24, 'name': 'Eunice', 'address': 'Interior ', 'Age': 60, 'Gender': 'F'}\n",
      "{'_id': 27, 'name': 'Claudia', 'address': 'Matarazzo 450 ', 'Age': 50, 'Gender': 'F'}\n",
      "{'_id': 28, 'name': 'Nilsa', 'address': 'Rua cidade de deus', 'Age': 61, 'Gender': 'F'}\n",
      "{'_id': 29, 'name': 'Fabianna', 'address': 'Capistrano de abreu', 'Age': 34, 'Gender': 'F'}\n"
     ]
    }
   ],
   "source": [
    "# Finding all persons with gender Female and greater than 30\n",
    "# ==================================================================\n",
    "consult3 = todos.find(\n",
    "                     {\"$and\":[{\"Gender\":\"F\"}, {\"Age\":{\"$gt\":30}}]}\n",
    "                      )\n",
    "for i in consult3:\n",
    "    print(i)"
   ]
  },
  {
   "cell_type": "code",
   "execution_count": 21,
   "id": "be2f878e",
   "metadata": {},
   "outputs": [
    {
     "name": "stdout",
     "output_type": "stream",
     "text": [
      "{'_id': 1, 'name': 'John', 'address': 'Highway 37', 'Age': 20, 'Gender': 'M'}\n",
      "{'_id': 2, 'name': 'Peter', 'address': 'Lowstreet 27', 'Age': 18, 'Gender': 'M'}\n",
      "{'_id': 13, 'name': 'Chuck', 'address': 'Main Road 989', 'Age': 20, 'Gender': 'M'}\n",
      "{'_id': 25, 'name': 'Enzo', 'address': 'Bogota 450', 'Age': 19, 'Gender': 'M'}\n"
     ]
    }
   ],
   "source": [
    "# Finding all persons with gender Male and less than 22\n",
    "# =====================================================================\n",
    "consult4 = todos.find(\n",
    "                    {\"$and\" : [ {\"Age\": {\"$lt\": 22}}, {\"Gender\": \"M\"}] }\n",
    "                      )\n",
    "for i in consult4:\n",
    "    print(i)"
   ]
  },
  {
   "cell_type": "code",
   "execution_count": 22,
   "id": "dd34c77c",
   "metadata": {},
   "outputs": [],
   "source": [
    "# Adding new documents\n",
    "# ========================================================================\n",
    "new = [ { \"_id\": 31, \"name\": \"Carlos\", \"address\": \"Barra Funda\",\"Age\": 28,\"Gender\":\"M\"} ,\n",
    "        {\"_id\" : 32 ,\"name\": \"Johan\", \"address\": \"Lima\", \"Age\": 24, \"Gender\":\"M\"},\n",
    "        {\"_id\": 33, \"name\": \"Ricardo\", \"address\" : \"Lima\", \"Age\": 28, \"Gender\": \"M\"},\n",
    "        {\"_id\": 34, \"name\": \"Ricardo\", \"address\": \"Barra funda\", \"Age\": 45, \"Gender\":\"M\"},\n",
    "        {\"_id\": 35, \"name\": \"Lucia\", \"address\": \"Rua bosque\", \"Age\" : 23, \"Gender\": \"F\"}\n",
    "]"
   ]
  },
  {
   "cell_type": "code",
   "execution_count": 23,
   "id": "39693c19",
   "metadata": {},
   "outputs": [],
   "source": [
    "result2 = todos.insert_many(new)"
   ]
  },
  {
   "cell_type": "code",
   "execution_count": 32,
   "id": "f6887667",
   "metadata": {},
   "outputs": [
    {
     "name": "stdout",
     "output_type": "stream",
     "text": [
      "{'_id': 34, 'name': 'Ricardo', 'address': 'Barra funda', 'Age': 45, 'Gender': 'M'}\n",
      "{'_id': 16, 'name': 'Ricardo', 'address': 'Butanta', 'Age': 35, 'Gender': 'M'}\n",
      "{'_id': 33, 'name': 'Ricardo', 'address': 'Lima', 'Age': 28, 'Gender': 'M'}\n"
     ]
    }
   ],
   "source": [
    "# Finding all person with name \"Ricardo\" and sorting by their Age \n",
    "consult5 = todos.find(\n",
    "                     {\"name\": \"Ricardo\"}\n",
    "                     ).sort(\"Age\" , pymongo.DESCENDING)\n",
    "for i in consult5:\n",
    "    print(i)"
   ]
  },
  {
   "cell_type": "code",
   "execution_count": 36,
   "id": "8a1d4691",
   "metadata": {},
   "outputs": [
    {
     "name": "stdout",
     "output_type": "stream",
     "text": [
      "<pymongo.cursor.Cursor object at 0x0000020D42825220>\n"
     ]
    }
   ],
   "source": [
    "consult6 = todos.find(\n",
    "                      {\"$max\" :\"Age\"})\n",
    "print(consult6)"
   ]
  },
  {
   "cell_type": "code",
   "execution_count": 35,
   "id": "c1b1c62a",
   "metadata": {},
   "outputs": [
    {
     "ename": "OperationFailure",
     "evalue": "unknown top level operator: $max. If you have a field name that starts with a '$' symbol, consider using $getField or $setField., full error: {'ok': 0.0, 'errmsg': \"unknown top level operator: $max. If you have a field name that starts with a '$' symbol, consider using $getField or $setField.\", 'code': 2, 'codeName': 'BadValue', '$clusterTime': {'clusterTime': Timestamp(1689949849, 2), 'signature': {'hash': b\"D\\x08\\xcc\\xe9'\\xef\\x96\\x9f]\\x98\\xecT\\xe9b\\xf7%\\xe5e*Y\", 'keyId': 7200833600290291715}}, 'operationTime': Timestamp(1689949849, 2)}",
     "output_type": "error",
     "traceback": [
      "\u001b[1;31m---------------------------------------------------------------------------\u001b[0m",
      "\u001b[1;31mOperationFailure\u001b[0m                          Traceback (most recent call last)",
      "\u001b[1;32m~\\AppData\\Local\\Temp\\ipykernel_17112\\2950264762.py\u001b[0m in \u001b[0;36m<module>\u001b[1;34m\u001b[0m\n\u001b[1;32m----> 1\u001b[1;33m \u001b[1;32mfor\u001b[0m \u001b[0mi\u001b[0m \u001b[1;32min\u001b[0m \u001b[0mconsult6\u001b[0m\u001b[1;33m:\u001b[0m\u001b[1;33m\u001b[0m\u001b[1;33m\u001b[0m\u001b[0m\n\u001b[0m\u001b[0;32m      2\u001b[0m     \u001b[0mprint\u001b[0m\u001b[1;33m(\u001b[0m\u001b[0mi\u001b[0m\u001b[1;33m)\u001b[0m\u001b[1;33m\u001b[0m\u001b[1;33m\u001b[0m\u001b[0m\n",
      "\u001b[1;32m~\\anaconda3\\lib\\site-packages\\pymongo\\cursor.py\u001b[0m in \u001b[0;36mnext\u001b[1;34m(self)\u001b[0m\n\u001b[0;32m   1249\u001b[0m         \u001b[1;32mif\u001b[0m \u001b[0mself\u001b[0m\u001b[1;33m.\u001b[0m\u001b[0m__empty\u001b[0m\u001b[1;33m:\u001b[0m\u001b[1;33m\u001b[0m\u001b[1;33m\u001b[0m\u001b[0m\n\u001b[0;32m   1250\u001b[0m             \u001b[1;32mraise\u001b[0m \u001b[0mStopIteration\u001b[0m\u001b[1;33m\u001b[0m\u001b[1;33m\u001b[0m\u001b[0m\n\u001b[1;32m-> 1251\u001b[1;33m         \u001b[1;32mif\u001b[0m \u001b[0mlen\u001b[0m\u001b[1;33m(\u001b[0m\u001b[0mself\u001b[0m\u001b[1;33m.\u001b[0m\u001b[0m__data\u001b[0m\u001b[1;33m)\u001b[0m \u001b[1;32mor\u001b[0m \u001b[0mself\u001b[0m\u001b[1;33m.\u001b[0m\u001b[0m_refresh\u001b[0m\u001b[1;33m(\u001b[0m\u001b[1;33m)\u001b[0m\u001b[1;33m:\u001b[0m\u001b[1;33m\u001b[0m\u001b[1;33m\u001b[0m\u001b[0m\n\u001b[0m\u001b[0;32m   1252\u001b[0m             \u001b[1;32mreturn\u001b[0m \u001b[0mself\u001b[0m\u001b[1;33m.\u001b[0m\u001b[0m__data\u001b[0m\u001b[1;33m.\u001b[0m\u001b[0mpopleft\u001b[0m\u001b[1;33m(\u001b[0m\u001b[1;33m)\u001b[0m\u001b[1;33m\u001b[0m\u001b[1;33m\u001b[0m\u001b[0m\n\u001b[0;32m   1253\u001b[0m         \u001b[1;32melse\u001b[0m\u001b[1;33m:\u001b[0m\u001b[1;33m\u001b[0m\u001b[1;33m\u001b[0m\u001b[0m\n",
      "\u001b[1;32m~\\anaconda3\\lib\\site-packages\\pymongo\\cursor.py\u001b[0m in \u001b[0;36m_refresh\u001b[1;34m(self)\u001b[0m\n\u001b[0;32m   1166\u001b[0m                 \u001b[0mself\u001b[0m\u001b[1;33m.\u001b[0m\u001b[0m__exhaust\u001b[0m\u001b[1;33m,\u001b[0m\u001b[1;33m\u001b[0m\u001b[1;33m\u001b[0m\u001b[0m\n\u001b[0;32m   1167\u001b[0m             )\n\u001b[1;32m-> 1168\u001b[1;33m             \u001b[0mself\u001b[0m\u001b[1;33m.\u001b[0m\u001b[0m__send_message\u001b[0m\u001b[1;33m(\u001b[0m\u001b[0mq\u001b[0m\u001b[1;33m)\u001b[0m\u001b[1;33m\u001b[0m\u001b[1;33m\u001b[0m\u001b[0m\n\u001b[0m\u001b[0;32m   1169\u001b[0m         \u001b[1;32melif\u001b[0m \u001b[0mself\u001b[0m\u001b[1;33m.\u001b[0m\u001b[0m__id\u001b[0m\u001b[1;33m:\u001b[0m  \u001b[1;31m# Get More\u001b[0m\u001b[1;33m\u001b[0m\u001b[1;33m\u001b[0m\u001b[0m\n\u001b[0;32m   1170\u001b[0m             \u001b[1;32mif\u001b[0m \u001b[0mself\u001b[0m\u001b[1;33m.\u001b[0m\u001b[0m__limit\u001b[0m\u001b[1;33m:\u001b[0m\u001b[1;33m\u001b[0m\u001b[1;33m\u001b[0m\u001b[0m\n",
      "\u001b[1;32m~\\anaconda3\\lib\\site-packages\\pymongo\\cursor.py\u001b[0m in \u001b[0;36m__send_message\u001b[1;34m(self, operation)\u001b[0m\n\u001b[0;32m   1053\u001b[0m \u001b[1;33m\u001b[0m\u001b[0m\n\u001b[0;32m   1054\u001b[0m         \u001b[1;32mtry\u001b[0m\u001b[1;33m:\u001b[0m\u001b[1;33m\u001b[0m\u001b[1;33m\u001b[0m\u001b[0m\n\u001b[1;32m-> 1055\u001b[1;33m             response = client._run_operation(\n\u001b[0m\u001b[0;32m   1056\u001b[0m                 \u001b[0moperation\u001b[0m\u001b[1;33m,\u001b[0m \u001b[0mself\u001b[0m\u001b[1;33m.\u001b[0m\u001b[0m_unpack_response\u001b[0m\u001b[1;33m,\u001b[0m \u001b[0maddress\u001b[0m\u001b[1;33m=\u001b[0m\u001b[0mself\u001b[0m\u001b[1;33m.\u001b[0m\u001b[0m__address\u001b[0m\u001b[1;33m\u001b[0m\u001b[1;33m\u001b[0m\u001b[0m\n\u001b[0;32m   1057\u001b[0m             )\n",
      "\u001b[1;32m~\\anaconda3\\lib\\site-packages\\pymongo\\_csot.py\u001b[0m in \u001b[0;36mcsot_wrapper\u001b[1;34m(self, *args, **kwargs)\u001b[0m\n\u001b[0;32m    104\u001b[0m                 \u001b[1;32mwith\u001b[0m \u001b[0m_TimeoutContext\u001b[0m\u001b[1;33m(\u001b[0m\u001b[0mtimeout\u001b[0m\u001b[1;33m)\u001b[0m\u001b[1;33m:\u001b[0m\u001b[1;33m\u001b[0m\u001b[1;33m\u001b[0m\u001b[0m\n\u001b[0;32m    105\u001b[0m                     \u001b[1;32mreturn\u001b[0m \u001b[0mfunc\u001b[0m\u001b[1;33m(\u001b[0m\u001b[0mself\u001b[0m\u001b[1;33m,\u001b[0m \u001b[1;33m*\u001b[0m\u001b[0margs\u001b[0m\u001b[1;33m,\u001b[0m \u001b[1;33m**\u001b[0m\u001b[0mkwargs\u001b[0m\u001b[1;33m)\u001b[0m\u001b[1;33m\u001b[0m\u001b[1;33m\u001b[0m\u001b[0m\n\u001b[1;32m--> 106\u001b[1;33m         \u001b[1;32mreturn\u001b[0m \u001b[0mfunc\u001b[0m\u001b[1;33m(\u001b[0m\u001b[0mself\u001b[0m\u001b[1;33m,\u001b[0m \u001b[1;33m*\u001b[0m\u001b[0margs\u001b[0m\u001b[1;33m,\u001b[0m \u001b[1;33m**\u001b[0m\u001b[0mkwargs\u001b[0m\u001b[1;33m)\u001b[0m\u001b[1;33m\u001b[0m\u001b[1;33m\u001b[0m\u001b[0m\n\u001b[0m\u001b[0;32m    107\u001b[0m \u001b[1;33m\u001b[0m\u001b[0m\n\u001b[0;32m    108\u001b[0m     \u001b[1;32mreturn\u001b[0m \u001b[0mcast\u001b[0m\u001b[1;33m(\u001b[0m\u001b[0mF\u001b[0m\u001b[1;33m,\u001b[0m \u001b[0mcsot_wrapper\u001b[0m\u001b[1;33m)\u001b[0m\u001b[1;33m\u001b[0m\u001b[1;33m\u001b[0m\u001b[0m\n",
      "\u001b[1;32m~\\anaconda3\\lib\\site-packages\\pymongo\\mongo_client.py\u001b[0m in \u001b[0;36m_run_operation\u001b[1;34m(self, operation, unpack_res, address)\u001b[0m\n\u001b[0;32m   1339\u001b[0m             )\n\u001b[0;32m   1340\u001b[0m \u001b[1;33m\u001b[0m\u001b[0m\n\u001b[1;32m-> 1341\u001b[1;33m         return self._retryable_read(\n\u001b[0m\u001b[0;32m   1342\u001b[0m             \u001b[0m_cmd\u001b[0m\u001b[1;33m,\u001b[0m\u001b[1;33m\u001b[0m\u001b[1;33m\u001b[0m\u001b[0m\n\u001b[0;32m   1343\u001b[0m             \u001b[0moperation\u001b[0m\u001b[1;33m.\u001b[0m\u001b[0mread_preference\u001b[0m\u001b[1;33m,\u001b[0m\u001b[1;33m\u001b[0m\u001b[1;33m\u001b[0m\u001b[0m\n",
      "\u001b[1;32m~\\anaconda3\\lib\\site-packages\\pymongo\\_csot.py\u001b[0m in \u001b[0;36mcsot_wrapper\u001b[1;34m(self, *args, **kwargs)\u001b[0m\n\u001b[0;32m    104\u001b[0m                 \u001b[1;32mwith\u001b[0m \u001b[0m_TimeoutContext\u001b[0m\u001b[1;33m(\u001b[0m\u001b[0mtimeout\u001b[0m\u001b[1;33m)\u001b[0m\u001b[1;33m:\u001b[0m\u001b[1;33m\u001b[0m\u001b[1;33m\u001b[0m\u001b[0m\n\u001b[0;32m    105\u001b[0m                     \u001b[1;32mreturn\u001b[0m \u001b[0mfunc\u001b[0m\u001b[1;33m(\u001b[0m\u001b[0mself\u001b[0m\u001b[1;33m,\u001b[0m \u001b[1;33m*\u001b[0m\u001b[0margs\u001b[0m\u001b[1;33m,\u001b[0m \u001b[1;33m**\u001b[0m\u001b[0mkwargs\u001b[0m\u001b[1;33m)\u001b[0m\u001b[1;33m\u001b[0m\u001b[1;33m\u001b[0m\u001b[0m\n\u001b[1;32m--> 106\u001b[1;33m         \u001b[1;32mreturn\u001b[0m \u001b[0mfunc\u001b[0m\u001b[1;33m(\u001b[0m\u001b[0mself\u001b[0m\u001b[1;33m,\u001b[0m \u001b[1;33m*\u001b[0m\u001b[0margs\u001b[0m\u001b[1;33m,\u001b[0m \u001b[1;33m**\u001b[0m\u001b[0mkwargs\u001b[0m\u001b[1;33m)\u001b[0m\u001b[1;33m\u001b[0m\u001b[1;33m\u001b[0m\u001b[0m\n\u001b[0m\u001b[0;32m    107\u001b[0m \u001b[1;33m\u001b[0m\u001b[0m\n\u001b[0;32m    108\u001b[0m     \u001b[1;32mreturn\u001b[0m \u001b[0mcast\u001b[0m\u001b[1;33m(\u001b[0m\u001b[0mF\u001b[0m\u001b[1;33m,\u001b[0m \u001b[0mcsot_wrapper\u001b[0m\u001b[1;33m)\u001b[0m\u001b[1;33m\u001b[0m\u001b[1;33m\u001b[0m\u001b[0m\n",
      "\u001b[1;32m~\\anaconda3\\lib\\site-packages\\pymongo\\mongo_client.py\u001b[0m in \u001b[0;36m_retryable_read\u001b[1;34m(self, func, read_pref, session, address, retryable)\u001b[0m\n\u001b[0;32m   1463\u001b[0m                         \u001b[1;32massert\u001b[0m \u001b[0mlast_error\u001b[0m \u001b[1;32mis\u001b[0m \u001b[1;32mnot\u001b[0m \u001b[1;32mNone\u001b[0m\u001b[1;33m\u001b[0m\u001b[1;33m\u001b[0m\u001b[0m\n\u001b[0;32m   1464\u001b[0m                         \u001b[1;32mraise\u001b[0m \u001b[0mlast_error\u001b[0m\u001b[1;33m\u001b[0m\u001b[1;33m\u001b[0m\u001b[0m\n\u001b[1;32m-> 1465\u001b[1;33m                     \u001b[1;32mreturn\u001b[0m \u001b[0mfunc\u001b[0m\u001b[1;33m(\u001b[0m\u001b[0msession\u001b[0m\u001b[1;33m,\u001b[0m \u001b[0mserver\u001b[0m\u001b[1;33m,\u001b[0m \u001b[0msock_info\u001b[0m\u001b[1;33m,\u001b[0m \u001b[0mread_pref\u001b[0m\u001b[1;33m)\u001b[0m\u001b[1;33m\u001b[0m\u001b[1;33m\u001b[0m\u001b[0m\n\u001b[0m\u001b[0;32m   1466\u001b[0m             \u001b[1;32mexcept\u001b[0m \u001b[0mServerSelectionTimeoutError\u001b[0m\u001b[1;33m:\u001b[0m\u001b[1;33m\u001b[0m\u001b[1;33m\u001b[0m\u001b[0m\n\u001b[0;32m   1467\u001b[0m                 \u001b[1;32mif\u001b[0m \u001b[0mretrying\u001b[0m\u001b[1;33m:\u001b[0m\u001b[1;33m\u001b[0m\u001b[1;33m\u001b[0m\u001b[0m\n",
      "\u001b[1;32m~\\anaconda3\\lib\\site-packages\\pymongo\\mongo_client.py\u001b[0m in \u001b[0;36m_cmd\u001b[1;34m(session, server, sock_info, read_preference)\u001b[0m\n\u001b[0;32m   1335\u001b[0m         \u001b[1;32mdef\u001b[0m \u001b[0m_cmd\u001b[0m\u001b[1;33m(\u001b[0m\u001b[0msession\u001b[0m\u001b[1;33m,\u001b[0m \u001b[0mserver\u001b[0m\u001b[1;33m,\u001b[0m \u001b[0msock_info\u001b[0m\u001b[1;33m,\u001b[0m \u001b[0mread_preference\u001b[0m\u001b[1;33m)\u001b[0m\u001b[1;33m:\u001b[0m\u001b[1;33m\u001b[0m\u001b[1;33m\u001b[0m\u001b[0m\n\u001b[0;32m   1336\u001b[0m             \u001b[0moperation\u001b[0m\u001b[1;33m.\u001b[0m\u001b[0mreset\u001b[0m\u001b[1;33m(\u001b[0m\u001b[1;33m)\u001b[0m  \u001b[1;31m# Reset op in case of retry.\u001b[0m\u001b[1;33m\u001b[0m\u001b[1;33m\u001b[0m\u001b[0m\n\u001b[1;32m-> 1337\u001b[1;33m             return server.run_operation(\n\u001b[0m\u001b[0;32m   1338\u001b[0m                 \u001b[0msock_info\u001b[0m\u001b[1;33m,\u001b[0m \u001b[0moperation\u001b[0m\u001b[1;33m,\u001b[0m \u001b[0mread_preference\u001b[0m\u001b[1;33m,\u001b[0m \u001b[0mself\u001b[0m\u001b[1;33m.\u001b[0m\u001b[0m_event_listeners\u001b[0m\u001b[1;33m,\u001b[0m \u001b[0munpack_res\u001b[0m\u001b[1;33m\u001b[0m\u001b[1;33m\u001b[0m\u001b[0m\n\u001b[0;32m   1339\u001b[0m             )\n",
      "\u001b[1;32m~\\anaconda3\\lib\\site-packages\\pymongo\\helpers.py\u001b[0m in \u001b[0;36minner\u001b[1;34m(*args, **kwargs)\u001b[0m\n\u001b[0;32m    277\u001b[0m \u001b[1;33m\u001b[0m\u001b[0m\n\u001b[0;32m    278\u001b[0m         \u001b[1;32mtry\u001b[0m\u001b[1;33m:\u001b[0m\u001b[1;33m\u001b[0m\u001b[1;33m\u001b[0m\u001b[0m\n\u001b[1;32m--> 279\u001b[1;33m             \u001b[1;32mreturn\u001b[0m \u001b[0mfunc\u001b[0m\u001b[1;33m(\u001b[0m\u001b[1;33m*\u001b[0m\u001b[0margs\u001b[0m\u001b[1;33m,\u001b[0m \u001b[1;33m**\u001b[0m\u001b[0mkwargs\u001b[0m\u001b[1;33m)\u001b[0m\u001b[1;33m\u001b[0m\u001b[1;33m\u001b[0m\u001b[0m\n\u001b[0m\u001b[0;32m    280\u001b[0m         \u001b[1;32mexcept\u001b[0m \u001b[0mOperationFailure\u001b[0m \u001b[1;32mas\u001b[0m \u001b[0mexc\u001b[0m\u001b[1;33m:\u001b[0m\u001b[1;33m\u001b[0m\u001b[1;33m\u001b[0m\u001b[0m\n\u001b[0;32m    281\u001b[0m             \u001b[1;32mif\u001b[0m \u001b[0mno_reauth\u001b[0m\u001b[1;33m:\u001b[0m\u001b[1;33m\u001b[0m\u001b[1;33m\u001b[0m\u001b[0m\n",
      "\u001b[1;32m~\\anaconda3\\lib\\site-packages\\pymongo\\server.py\u001b[0m in \u001b[0;36mrun_operation\u001b[1;34m(self, sock_info, operation, read_preference, listeners, unpack_res)\u001b[0m\n\u001b[0;32m    133\u001b[0m                 \u001b[0mfirst\u001b[0m \u001b[1;33m=\u001b[0m \u001b[0mdocs\u001b[0m\u001b[1;33m[\u001b[0m\u001b[1;36m0\u001b[0m\u001b[1;33m]\u001b[0m\u001b[1;33m\u001b[0m\u001b[1;33m\u001b[0m\u001b[0m\n\u001b[0;32m    134\u001b[0m                 \u001b[0moperation\u001b[0m\u001b[1;33m.\u001b[0m\u001b[0mclient\u001b[0m\u001b[1;33m.\u001b[0m\u001b[0m_process_response\u001b[0m\u001b[1;33m(\u001b[0m\u001b[0mfirst\u001b[0m\u001b[1;33m,\u001b[0m \u001b[0moperation\u001b[0m\u001b[1;33m.\u001b[0m\u001b[0msession\u001b[0m\u001b[1;33m)\u001b[0m\u001b[1;33m\u001b[0m\u001b[1;33m\u001b[0m\u001b[0m\n\u001b[1;32m--> 135\u001b[1;33m                 \u001b[0m_check_command_response\u001b[0m\u001b[1;33m(\u001b[0m\u001b[0mfirst\u001b[0m\u001b[1;33m,\u001b[0m \u001b[0msock_info\u001b[0m\u001b[1;33m.\u001b[0m\u001b[0mmax_wire_version\u001b[0m\u001b[1;33m)\u001b[0m\u001b[1;33m\u001b[0m\u001b[1;33m\u001b[0m\u001b[0m\n\u001b[0m\u001b[0;32m    136\u001b[0m         \u001b[1;32mexcept\u001b[0m \u001b[0mException\u001b[0m \u001b[1;32mas\u001b[0m \u001b[0mexc\u001b[0m\u001b[1;33m:\u001b[0m\u001b[1;33m\u001b[0m\u001b[1;33m\u001b[0m\u001b[0m\n\u001b[0;32m    137\u001b[0m             \u001b[1;32mif\u001b[0m \u001b[0mpublish\u001b[0m\u001b[1;33m:\u001b[0m\u001b[1;33m\u001b[0m\u001b[1;33m\u001b[0m\u001b[0m\n",
      "\u001b[1;32m~\\anaconda3\\lib\\site-packages\\pymongo\\helpers.py\u001b[0m in \u001b[0;36m_check_command_response\u001b[1;34m(response, max_wire_version, allowable_errors, parse_write_concern_error)\u001b[0m\n\u001b[0;32m    192\u001b[0m         \u001b[1;32mraise\u001b[0m \u001b[0mCursorNotFound\u001b[0m\u001b[1;33m(\u001b[0m\u001b[0merrmsg\u001b[0m\u001b[1;33m,\u001b[0m \u001b[0mcode\u001b[0m\u001b[1;33m,\u001b[0m \u001b[0mresponse\u001b[0m\u001b[1;33m,\u001b[0m \u001b[0mmax_wire_version\u001b[0m\u001b[1;33m)\u001b[0m\u001b[1;33m\u001b[0m\u001b[1;33m\u001b[0m\u001b[0m\n\u001b[0;32m    193\u001b[0m \u001b[1;33m\u001b[0m\u001b[0m\n\u001b[1;32m--> 194\u001b[1;33m     \u001b[1;32mraise\u001b[0m \u001b[0mOperationFailure\u001b[0m\u001b[1;33m(\u001b[0m\u001b[0merrmsg\u001b[0m\u001b[1;33m,\u001b[0m \u001b[0mcode\u001b[0m\u001b[1;33m,\u001b[0m \u001b[0mresponse\u001b[0m\u001b[1;33m,\u001b[0m \u001b[0mmax_wire_version\u001b[0m\u001b[1;33m)\u001b[0m\u001b[1;33m\u001b[0m\u001b[1;33m\u001b[0m\u001b[0m\n\u001b[0m\u001b[0;32m    195\u001b[0m \u001b[1;33m\u001b[0m\u001b[0m\n\u001b[0;32m    196\u001b[0m \u001b[1;33m\u001b[0m\u001b[0m\n",
      "\u001b[1;31mOperationFailure\u001b[0m: unknown top level operator: $max. If you have a field name that starts with a '$' symbol, consider using $getField or $setField., full error: {'ok': 0.0, 'errmsg': \"unknown top level operator: $max. If you have a field name that starts with a '$' symbol, consider using $getField or $setField.\", 'code': 2, 'codeName': 'BadValue', '$clusterTime': {'clusterTime': Timestamp(1689949849, 2), 'signature': {'hash': b\"D\\x08\\xcc\\xe9'\\xef\\x96\\x9f]\\x98\\xecT\\xe9b\\xf7%\\xe5e*Y\", 'keyId': 7200833600290291715}}, 'operationTime': Timestamp(1689949849, 2)}"
     ]
    }
   ],
   "source": []
  },
  {
   "cell_type": "code",
   "execution_count": null,
   "id": "d34c1b4c",
   "metadata": {},
   "outputs": [],
   "source": []
  }
 ],
 "metadata": {
  "kernelspec": {
   "display_name": "Python 3 (ipykernel)",
   "language": "python",
   "name": "python3"
  },
  "language_info": {
   "codemirror_mode": {
    "name": "ipython",
    "version": 3
   },
   "file_extension": ".py",
   "mimetype": "text/x-python",
   "name": "python",
   "nbconvert_exporter": "python",
   "pygments_lexer": "ipython3",
   "version": "3.9.13"
  }
 },
 "nbformat": 4,
 "nbformat_minor": 5
}
